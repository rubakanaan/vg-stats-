{
 "cells": [
  {
   "cell_type": "markdown",
   "source": [
    "# Video Game Sales"
   ],
   "metadata": {}
  },
  {
   "cell_type": "code",
   "execution_count": 18,
   "source": [
    "import pandas as pd\n"
   ],
   "outputs": [],
   "metadata": {}
  },
  {
   "cell_type": "code",
   "execution_count": 19,
   "source": [
    "df= pd.read_csv(\"./vgsales.csv\")"
   ],
   "outputs": [],
   "metadata": {}
  },
  {
   "cell_type": "code",
   "execution_count": 20,
   "source": [
    "df.head()"
   ],
   "outputs": [
    {
     "output_type": "execute_result",
     "data": {
      "text/plain": [
       "   Rank                      Name Platform    Year         Genre Publisher  \\\n",
       "0     1                Wii Sports      Wii  2006.0        Sports  Nintendo   \n",
       "1     2         Super Mario Bros.      NES  1985.0      Platform  Nintendo   \n",
       "2     3            Mario Kart Wii      Wii  2008.0        Racing  Nintendo   \n",
       "3     4         Wii Sports Resort      Wii  2009.0        Sports  Nintendo   \n",
       "4     5  Pokemon Red/Pokemon Blue       GB  1996.0  Role-Playing  Nintendo   \n",
       "\n",
       "   NA_Sales  EU_Sales  JP_Sales  Other_Sales  Global_Sales  \n",
       "0     41.49     29.02      3.77         8.46         82.74  \n",
       "1     29.08      3.58      6.81         0.77         40.24  \n",
       "2     15.85     12.88      3.79         3.31         35.82  \n",
       "3     15.75     11.01      3.28         2.96         33.00  \n",
       "4     11.27      8.89     10.22         1.00         31.37  "
      ],
      "text/html": [
       "<div>\n",
       "<style scoped>\n",
       "    .dataframe tbody tr th:only-of-type {\n",
       "        vertical-align: middle;\n",
       "    }\n",
       "\n",
       "    .dataframe tbody tr th {\n",
       "        vertical-align: top;\n",
       "    }\n",
       "\n",
       "    .dataframe thead th {\n",
       "        text-align: right;\n",
       "    }\n",
       "</style>\n",
       "<table border=\"1\" class=\"dataframe\">\n",
       "  <thead>\n",
       "    <tr style=\"text-align: right;\">\n",
       "      <th></th>\n",
       "      <th>Rank</th>\n",
       "      <th>Name</th>\n",
       "      <th>Platform</th>\n",
       "      <th>Year</th>\n",
       "      <th>Genre</th>\n",
       "      <th>Publisher</th>\n",
       "      <th>NA_Sales</th>\n",
       "      <th>EU_Sales</th>\n",
       "      <th>JP_Sales</th>\n",
       "      <th>Other_Sales</th>\n",
       "      <th>Global_Sales</th>\n",
       "    </tr>\n",
       "  </thead>\n",
       "  <tbody>\n",
       "    <tr>\n",
       "      <th>0</th>\n",
       "      <td>1</td>\n",
       "      <td>Wii Sports</td>\n",
       "      <td>Wii</td>\n",
       "      <td>2006.0</td>\n",
       "      <td>Sports</td>\n",
       "      <td>Nintendo</td>\n",
       "      <td>41.49</td>\n",
       "      <td>29.02</td>\n",
       "      <td>3.77</td>\n",
       "      <td>8.46</td>\n",
       "      <td>82.74</td>\n",
       "    </tr>\n",
       "    <tr>\n",
       "      <th>1</th>\n",
       "      <td>2</td>\n",
       "      <td>Super Mario Bros.</td>\n",
       "      <td>NES</td>\n",
       "      <td>1985.0</td>\n",
       "      <td>Platform</td>\n",
       "      <td>Nintendo</td>\n",
       "      <td>29.08</td>\n",
       "      <td>3.58</td>\n",
       "      <td>6.81</td>\n",
       "      <td>0.77</td>\n",
       "      <td>40.24</td>\n",
       "    </tr>\n",
       "    <tr>\n",
       "      <th>2</th>\n",
       "      <td>3</td>\n",
       "      <td>Mario Kart Wii</td>\n",
       "      <td>Wii</td>\n",
       "      <td>2008.0</td>\n",
       "      <td>Racing</td>\n",
       "      <td>Nintendo</td>\n",
       "      <td>15.85</td>\n",
       "      <td>12.88</td>\n",
       "      <td>3.79</td>\n",
       "      <td>3.31</td>\n",
       "      <td>35.82</td>\n",
       "    </tr>\n",
       "    <tr>\n",
       "      <th>3</th>\n",
       "      <td>4</td>\n",
       "      <td>Wii Sports Resort</td>\n",
       "      <td>Wii</td>\n",
       "      <td>2009.0</td>\n",
       "      <td>Sports</td>\n",
       "      <td>Nintendo</td>\n",
       "      <td>15.75</td>\n",
       "      <td>11.01</td>\n",
       "      <td>3.28</td>\n",
       "      <td>2.96</td>\n",
       "      <td>33.00</td>\n",
       "    </tr>\n",
       "    <tr>\n",
       "      <th>4</th>\n",
       "      <td>5</td>\n",
       "      <td>Pokemon Red/Pokemon Blue</td>\n",
       "      <td>GB</td>\n",
       "      <td>1996.0</td>\n",
       "      <td>Role-Playing</td>\n",
       "      <td>Nintendo</td>\n",
       "      <td>11.27</td>\n",
       "      <td>8.89</td>\n",
       "      <td>10.22</td>\n",
       "      <td>1.00</td>\n",
       "      <td>31.37</td>\n",
       "    </tr>\n",
       "  </tbody>\n",
       "</table>\n",
       "</div>"
      ]
     },
     "metadata": {},
     "execution_count": 20
    }
   ],
   "metadata": {}
  },
  {
   "cell_type": "markdown",
   "source": [
    "### 1- Which company is the most common video game publisher?"
   ],
   "metadata": {}
  },
  {
   "cell_type": "code",
   "execution_count": 51,
   "source": [
    "most_common_publisher=df[\"Publisher\"].mode()[0]\n",
    "print(f\"The most common video game publisher is {most_common_publisher}. \")"
   ],
   "outputs": [
    {
     "output_type": "stream",
     "name": "stdout",
     "text": [
      "The most common video game publisher is Electronic Arts. \n"
     ]
    }
   ],
   "metadata": {}
  },
  {
   "cell_type": "markdown",
   "source": [
    "### 2- What’s the most common platform?\n"
   ],
   "metadata": {}
  },
  {
   "cell_type": "code",
   "execution_count": 52,
   "source": [
    "most_common_platform=df[\"Platform\"].mode()[0]\n",
    "print(f\"The most common platform is {most_common_platform}.\")\n"
   ],
   "outputs": [
    {
     "output_type": "stream",
     "name": "stdout",
     "text": [
      "The most common platform is DS.\n"
     ]
    }
   ],
   "metadata": {}
  },
  {
   "cell_type": "markdown",
   "source": [
    "### 3- What about the most common genre?\n"
   ],
   "metadata": {}
  },
  {
   "cell_type": "code",
   "execution_count": 53,
   "source": [
    "most_common_genre=df[\"Genre\"].mode()[0]\n",
    "print(f\"The most common genre is {most_common_genre}.\")"
   ],
   "outputs": [
    {
     "output_type": "stream",
     "name": "stdout",
     "text": [
      "The most common genre is Action.\n"
     ]
    }
   ],
   "metadata": {}
  },
  {
   "cell_type": "markdown",
   "source": [
    "### 4- What are the top 20 highest grossing games?"
   ],
   "metadata": {}
  },
  {
   "cell_type": "code",
   "execution_count": 66,
   "source": [
    "top_twenty_highest_grossing_games=df.sort_values('Global_Sales', ascending=False).head(20)\n",
    "print(top_twenty_highest_grossing_games)"
   ],
   "outputs": [
    {
     "output_type": "stream",
     "name": "stdout",
     "text": [
      "    Rank                                          Name Platform    Year  \\\n",
      "0      1                                    Wii Sports      Wii  2006.0   \n",
      "1      2                             Super Mario Bros.      NES  1985.0   \n",
      "2      3                                Mario Kart Wii      Wii  2008.0   \n",
      "3      4                             Wii Sports Resort      Wii  2009.0   \n",
      "4      5                      Pokemon Red/Pokemon Blue       GB  1996.0   \n",
      "5      6                                        Tetris       GB  1989.0   \n",
      "6      7                         New Super Mario Bros.       DS  2006.0   \n",
      "7      8                                      Wii Play      Wii  2006.0   \n",
      "8      9                     New Super Mario Bros. Wii      Wii  2009.0   \n",
      "9     10                                     Duck Hunt      NES  1984.0   \n",
      "10    11                                    Nintendogs       DS  2005.0   \n",
      "11    12                                 Mario Kart DS       DS  2005.0   \n",
      "12    13                   Pokemon Gold/Pokemon Silver       GB  1999.0   \n",
      "13    14                                       Wii Fit      Wii  2007.0   \n",
      "14    15                                  Wii Fit Plus      Wii  2009.0   \n",
      "15    16                            Kinect Adventures!     X360  2010.0   \n",
      "16    17                            Grand Theft Auto V      PS3  2013.0   \n",
      "17    18                 Grand Theft Auto: San Andreas      PS2  2004.0   \n",
      "18    19                             Super Mario World     SNES  1990.0   \n",
      "19    20  Brain Age: Train Your Brain in Minutes a Day       DS  2005.0   \n",
      "\n",
      "           Genre               Publisher  NA_Sales  EU_Sales  JP_Sales  \\\n",
      "0         Sports                Nintendo     41.49     29.02      3.77   \n",
      "1       Platform                Nintendo     29.08      3.58      6.81   \n",
      "2         Racing                Nintendo     15.85     12.88      3.79   \n",
      "3         Sports                Nintendo     15.75     11.01      3.28   \n",
      "4   Role-Playing                Nintendo     11.27      8.89     10.22   \n",
      "5         Puzzle                Nintendo     23.20      2.26      4.22   \n",
      "6       Platform                Nintendo     11.38      9.23      6.50   \n",
      "7           Misc                Nintendo     14.03      9.20      2.93   \n",
      "8       Platform                Nintendo     14.59      7.06      4.70   \n",
      "9        Shooter                Nintendo     26.93      0.63      0.28   \n",
      "10    Simulation                Nintendo      9.07     11.00      1.93   \n",
      "11        Racing                Nintendo      9.81      7.57      4.13   \n",
      "12  Role-Playing                Nintendo      9.00      6.18      7.20   \n",
      "13        Sports                Nintendo      8.94      8.03      3.60   \n",
      "14        Sports                Nintendo      9.09      8.59      2.53   \n",
      "15          Misc  Microsoft Game Studios     14.97      4.94      0.24   \n",
      "16        Action    Take-Two Interactive      7.01      9.27      0.97   \n",
      "17        Action    Take-Two Interactive      9.43      0.40      0.41   \n",
      "18      Platform                Nintendo     12.78      3.75      3.54   \n",
      "19          Misc                Nintendo      4.75      9.26      4.16   \n",
      "\n",
      "    Other_Sales  Global_Sales  \n",
      "0          8.46         82.74  \n",
      "1          0.77         40.24  \n",
      "2          3.31         35.82  \n",
      "3          2.96         33.00  \n",
      "4          1.00         31.37  \n",
      "5          0.58         30.26  \n",
      "6          2.90         30.01  \n",
      "7          2.85         29.02  \n",
      "8          2.26         28.62  \n",
      "9          0.47         28.31  \n",
      "10         2.75         24.76  \n",
      "11         1.92         23.42  \n",
      "12         0.71         23.10  \n",
      "13         2.15         22.72  \n",
      "14         1.79         22.00  \n",
      "15         1.67         21.82  \n",
      "16         4.14         21.40  \n",
      "17        10.57         20.81  \n",
      "18         0.55         20.61  \n",
      "19         2.05         20.22  \n"
     ]
    }
   ],
   "metadata": {}
  },
  {
   "cell_type": "markdown",
   "source": [
    "### 5- For North American video game sales, what’s the median?\n"
   ],
   "metadata": {}
  },
  {
   "cell_type": "code",
   "execution_count": 61,
   "source": [
    "na_median_sales= df['NA_Sales'].median()\n",
    "print(f\"The median for North American = {na_median_sales}.\")"
   ],
   "outputs": [
    {
     "output_type": "stream",
     "name": "stdout",
     "text": [
      "The median for North American = 0.08.\n"
     ]
    }
   ],
   "metadata": {}
  },
  {
   "cell_type": "markdown",
   "source": [
    "### Provide a secondary output showing ten games surrounding the median sales output"
   ],
   "metadata": {}
  },
  {
   "cell_type": "code",
   "execution_count": 62,
   "source": [
    "surr_sales=df[df['NA_Sales'] == 0.08][['Name','NA_Sales']].head(10)\n",
    "surr_sales"
   ],
   "outputs": [
    {
     "output_type": "execute_result",
     "data": {
      "text/plain": [
       "                                                   Name  NA_Sales\n",
       "446                                   Dragon Warrior IV      0.08\n",
       "497         World Soccer Winning Eleven 7 International      0.08\n",
       "1617                             Farming Simulator 2015      0.08\n",
       "1926                          Pro Evolution Soccer 2008      0.08\n",
       "2067  Winning Eleven: Pro Evolution Soccer 2007 (All...      0.08\n",
       "2373                           Phantasy Star Portable 2      0.08\n",
       "2579                               The Sims 2: Castaway      0.08\n",
       "3186                                     SingStar Queen      0.08\n",
       "3503                                         Top Spin 3      0.08\n",
       "3703               Sonic & All-Stars Racing Transformed      0.08"
      ],
      "text/html": [
       "<div>\n",
       "<style scoped>\n",
       "    .dataframe tbody tr th:only-of-type {\n",
       "        vertical-align: middle;\n",
       "    }\n",
       "\n",
       "    .dataframe tbody tr th {\n",
       "        vertical-align: top;\n",
       "    }\n",
       "\n",
       "    .dataframe thead th {\n",
       "        text-align: right;\n",
       "    }\n",
       "</style>\n",
       "<table border=\"1\" class=\"dataframe\">\n",
       "  <thead>\n",
       "    <tr style=\"text-align: right;\">\n",
       "      <th></th>\n",
       "      <th>Name</th>\n",
       "      <th>NA_Sales</th>\n",
       "    </tr>\n",
       "  </thead>\n",
       "  <tbody>\n",
       "    <tr>\n",
       "      <th>446</th>\n",
       "      <td>Dragon Warrior IV</td>\n",
       "      <td>0.08</td>\n",
       "    </tr>\n",
       "    <tr>\n",
       "      <th>497</th>\n",
       "      <td>World Soccer Winning Eleven 7 International</td>\n",
       "      <td>0.08</td>\n",
       "    </tr>\n",
       "    <tr>\n",
       "      <th>1617</th>\n",
       "      <td>Farming Simulator 2015</td>\n",
       "      <td>0.08</td>\n",
       "    </tr>\n",
       "    <tr>\n",
       "      <th>1926</th>\n",
       "      <td>Pro Evolution Soccer 2008</td>\n",
       "      <td>0.08</td>\n",
       "    </tr>\n",
       "    <tr>\n",
       "      <th>2067</th>\n",
       "      <td>Winning Eleven: Pro Evolution Soccer 2007 (All...</td>\n",
       "      <td>0.08</td>\n",
       "    </tr>\n",
       "    <tr>\n",
       "      <th>2373</th>\n",
       "      <td>Phantasy Star Portable 2</td>\n",
       "      <td>0.08</td>\n",
       "    </tr>\n",
       "    <tr>\n",
       "      <th>2579</th>\n",
       "      <td>The Sims 2: Castaway</td>\n",
       "      <td>0.08</td>\n",
       "    </tr>\n",
       "    <tr>\n",
       "      <th>3186</th>\n",
       "      <td>SingStar Queen</td>\n",
       "      <td>0.08</td>\n",
       "    </tr>\n",
       "    <tr>\n",
       "      <th>3503</th>\n",
       "      <td>Top Spin 3</td>\n",
       "      <td>0.08</td>\n",
       "    </tr>\n",
       "    <tr>\n",
       "      <th>3703</th>\n",
       "      <td>Sonic &amp; All-Stars Racing Transformed</td>\n",
       "      <td>0.08</td>\n",
       "    </tr>\n",
       "  </tbody>\n",
       "</table>\n",
       "</div>"
      ]
     },
     "metadata": {},
     "execution_count": 62
    }
   ],
   "metadata": {}
  },
  {
   "cell_type": "markdown",
   "source": [
    "### 6- For the top-selling game of all time, how many standard deviations above/below the mean are its sales for North America?"
   ],
   "metadata": {}
  },
  {
   "cell_type": "code",
   "execution_count": 63,
   "source": [
    "max=df['NA_Sales'].max()\n",
    "std=df['NA_Sales'].std()\n",
    "mean = df['NA_Sales'].mean()\n",
    "ten_median_na_seller_names=(max-mean)/std\n",
    "print(ten_median_na_seller_names)"
   ],
   "outputs": [
    {
     "output_type": "stream",
     "name": "stdout",
     "text": [
      "50.47898767479108\n"
     ]
    }
   ],
   "metadata": {}
  },
  {
   "cell_type": "markdown",
   "source": [
    "### 7- The Nintendo Wii seems to have outdone itself with games. How does its average number of sales compare with all of the other platforms?"
   ],
   "metadata": {}
  },
  {
   "cell_type": "code",
   "execution_count": 64,
   "source": [
    "wii=df[df['Platform']=='Wii']\n",
    "wii_mean=wii['Global_Sales'].mean()\n",
    "print(f'wii mean = {wii_mean}')\n",
    "others=df[df['Platform']!='Wii']\n",
    "others_mean=others['Global_Sales'].mean()\n",
    "print(f'others mean = {others_mean}')\n"
   ],
   "outputs": [
    {
     "output_type": "stream",
     "name": "stdout",
     "text": [
      "wii mean = 0.6994037735849057\n",
      "others mean = 0.5233896418516336\n"
     ]
    }
   ],
   "metadata": {}
  },
  {
   "cell_type": "code",
   "execution_count": 67,
   "source": [
    "def test():\n",
    "\n",
    "    def assert_equal(actual,expected):\n",
    "        assert actual == expected, f\"Expected {expected} but got {actual}\"\n",
    "\n",
    "    assert_equal(most_common_publisher, 'Electronic Arts')\n",
    "    assert_equal(most_common_platform, 'DS')\n",
    "    assert_equal(most_common_genre, 'Action')\n",
    "    assert_equal(top_twenty_highest_grossing_games.iloc[0].Name, 'Wii Sports')\n",
    "    assert_equal(top_twenty_highest_grossing_games.iloc[19].Name, 'Brain Age: Train Your Brain in Minutes a Day')\n",
    "    assert_equal(na_median_sales, 0.08)\n",
    "    assert_equal(ten_median_na_seller_names, 50.47898767479108)\n",
    "    assert_equal(wii_mean, 0.6994037735849057)\n",
    "    assert_equal(others_mean, 0.5233896418516336)\n",
    "    \n",
    "\n",
    "    print(\"Success!!!\")\n",
    "\n",
    "test()"
   ],
   "outputs": [
    {
     "output_type": "stream",
     "name": "stdout",
     "text": [
      "Success!!!\n"
     ]
    }
   ],
   "metadata": {}
  }
 ],
 "metadata": {
  "orig_nbformat": 4,
  "language_info": {
   "name": "python",
   "version": "3.9.6",
   "mimetype": "text/x-python",
   "codemirror_mode": {
    "name": "ipython",
    "version": 3
   },
   "pygments_lexer": "ipython3",
   "nbconvert_exporter": "python",
   "file_extension": ".py"
  },
  "kernelspec": {
   "name": "python3",
   "display_name": "Python 3.9.6 64-bit ('.venv': poetry)"
  },
  "interpreter": {
   "hash": "1b2d09def51cc47787bf5c8bbebfb5ee1f7a056fe928736f03457cc388ea47bd"
  }
 },
 "nbformat": 4,
 "nbformat_minor": 2
}